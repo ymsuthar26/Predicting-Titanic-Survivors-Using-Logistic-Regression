{
 "cells": [
  {
   "cell_type": "code",
   "execution_count": null,
   "id": "406b16c0-191c-4e8e-9ce6-efb9b15a2a54",
   "metadata": {},
   "outputs": [],
   "source": [
    "import numpy as np \n",
    "import pandas as pd\n",
    "import matplotlib.pyplot as plt\n",
    "import seaborn as sns\n",
    "import warnings\n",
    "warnings.filterwarnings('ignore')"
   ]
  },
  {
   "cell_type": "code",
   "execution_count": null,
   "id": "3cf2188a-9648-409f-b51e-625efc514819",
   "metadata": {},
   "outputs": [],
   "source": [
    "df=pd.read_csv('Titanic-Dataset.csv')"
   ]
  },
  {
   "cell_type": "code",
   "execution_count": null,
   "id": "dfca7b11-b6d4-4eb4-a8a0-7143575100a4",
   "metadata": {},
   "outputs": [],
   "source": [
    "df.head(3)"
   ]
  },
  {
   "cell_type": "code",
   "execution_count": null,
   "id": "bcc53cba-8c6a-4243-9ff8-9760bec6e5d5",
   "metadata": {},
   "outputs": [],
   "source": [
    "df.tail(3)"
   ]
  },
  {
   "cell_type": "code",
   "execution_count": null,
   "id": "680965c3-0207-47b3-b239-afc8419eae90",
   "metadata": {},
   "outputs": [],
   "source": [
    "df.info()"
   ]
  },
  {
   "cell_type": "code",
   "execution_count": null,
   "id": "5378a461-7dd1-46e5-a48b-4590a1516670",
   "metadata": {},
   "outputs": [],
   "source": [
    "#handle data incorrect, duplicated, outliers, null, textual, irrelevant, heavy pos corr"
   ]
  },
  {
   "cell_type": "markdown",
   "id": "3c32463d-1b6a-45ca-b984-3ae0660719f4",
   "metadata": {},
   "source": [
    "#### Handling Duplicated Values"
   ]
  },
  {
   "cell_type": "code",
   "execution_count": null,
   "id": "c63996ca-84a7-4e9b-be58-040698ebd6e9",
   "metadata": {},
   "outputs": [],
   "source": [
    "df.columns"
   ]
  },
  {
   "cell_type": "code",
   "execution_count": null,
   "id": "8394e100-0749-4d7c-94b0-23fb8ce3d923",
   "metadata": {},
   "outputs": [],
   "source": [
    "df.duplicated().sum()"
   ]
  },
  {
   "cell_type": "markdown",
   "id": "23c1c0c2-7977-450d-8a79-0d77a205d82f",
   "metadata": {},
   "source": [
    "#### Handling Null Values"
   ]
  },
  {
   "cell_type": "code",
   "execution_count": null,
   "id": "f8e02fb4-3872-4bc5-8de6-b90271f51ead",
   "metadata": {},
   "outputs": [],
   "source": [
    "df.isnull().sum()/len(df)*100"
   ]
  },
  {
   "cell_type": "code",
   "execution_count": null,
   "id": "68657d91-7301-428e-9c59-ce5863170375",
   "metadata": {},
   "outputs": [],
   "source": [
    "df['Age']=df['Age'].fillna(df['Age'].mean())"
   ]
  },
  {
   "cell_type": "code",
   "execution_count": null,
   "id": "315769b8-fc3c-4c45-9d69-a1f046cfe03d",
   "metadata": {},
   "outputs": [],
   "source": [
    "df.drop('Cabin',axis=1,inplace=True)"
   ]
  },
  {
   "cell_type": "code",
   "execution_count": null,
   "id": "7f9b7971-b920-4844-bea0-a7ff9f2021f9",
   "metadata": {},
   "outputs": [],
   "source": [
    "plt.title('Embarked Countplot')\n",
    "df['Embarked'].value_counts().plot(kind='bar')\n",
    "plt.show()"
   ]
  },
  {
   "cell_type": "code",
   "execution_count": null,
   "id": "8efcd06a-68e8-4ac0-bf3d-e63957fb4cb4",
   "metadata": {},
   "outputs": [],
   "source": [
    "df['Embarked']=df['Embarked'].fillna('S')"
   ]
  },
  {
   "cell_type": "markdown",
   "id": "d7505b08-6dcc-4b69-b883-6c332d9f98f9",
   "metadata": {},
   "source": [
    "#### Handling Highly + Correlation Values"
   ]
  },
  {
   "cell_type": "code",
   "execution_count": null,
   "id": "9fa9a285-2f81-4080-a425-cd3fa8849e28",
   "metadata": {},
   "outputs": [],
   "source": [
    "sns.heatmap(df.corr(numeric_only=True),annot=True, vmin=-1,vmax=1,cmap='coolwarm')\n",
    "plt.show()"
   ]
  },
  {
   "cell_type": "markdown",
   "id": "f26f0827-b4dd-479c-bf6d-f55c8368b175",
   "metadata": {},
   "source": [
    "#### Handling Outliers"
   ]
  },
  {
   "cell_type": "code",
   "execution_count": null,
   "id": "791d8fb4-93e9-4264-a7fc-1cf1ca716bab",
   "metadata": {},
   "outputs": [],
   "source": [
    "for col_name in df.select_dtypes('number').columns:\n",
    "    print(col_name)\n",
    "    sns.boxplot(df,x=col_name)\n",
    "    plt.show()"
   ]
  },
  {
   "cell_type": "code",
   "execution_count": null,
   "id": "00681c6e-d851-46c2-b98e-0588119aba42",
   "metadata": {},
   "outputs": [],
   "source": [
    "q1=df['Fare'].quantile(0.25)\n",
    "q3=df['Fare'].quantile(0.75)\n",
    "iqr=q3-q1\n",
    "lower_whisker=q1-iqr*1.5\n",
    "upper_whisker=q3+iqr*1.5"
   ]
  },
  {
   "cell_type": "code",
   "execution_count": null,
   "id": "227cebd0-0f9a-4f37-9c98-53e5f4de92a3",
   "metadata": {},
   "outputs": [],
   "source": [
    "df['Fare'][df['Fare']>upper_whisker]=upper_whisker"
   ]
  },
  {
   "cell_type": "markdown",
   "id": "9d6fcf84-1a7e-4cc3-becc-e692263e7ab4",
   "metadata": {},
   "source": [
    "#### Handling Irrelevant Data"
   ]
  },
  {
   "cell_type": "code",
   "execution_count": null,
   "id": "68c7621d-9671-4d27-9cbd-854530270648",
   "metadata": {},
   "outputs": [],
   "source": [
    "df.drop(['PassengerId','Name','Ticket'],axis=1,inplace=True)"
   ]
  },
  {
   "cell_type": "markdown",
   "id": "7adb24e6-a057-43ba-b17d-315581740ce9",
   "metadata": {},
   "source": [
    "#### Handling Textual Data"
   ]
  },
  {
   "cell_type": "code",
   "execution_count": null,
   "id": "470d1117-135b-42d2-92d4-15c9ba7b065d",
   "metadata": {},
   "outputs": [],
   "source": [
    "df=pd.get_dummies(df,dtype=int,drop_first=True)"
   ]
  },
  {
   "cell_type": "markdown",
   "id": "efb4497b-2b18-457f-8e24-4cb14af99abf",
   "metadata": {},
   "source": [
    "#### Input & Output"
   ]
  },
  {
   "cell_type": "code",
   "execution_count": null,
   "id": "d8c7aac5-7ed8-45d7-b281-050848894388",
   "metadata": {},
   "outputs": [],
   "source": [
    "X=df.drop('Survived',axis=1)\n",
    "y=df['Survived']"
   ]
  },
  {
   "cell_type": "markdown",
   "id": "051c5ea2-ebff-40bc-b0ab-a49c25ce0fd8",
   "metadata": {},
   "source": [
    "#### Train Test Split "
   ]
  },
  {
   "cell_type": "code",
   "execution_count": null,
   "id": "fd20803b-8c15-4a98-a727-96f074d7e149",
   "metadata": {},
   "outputs": [],
   "source": [
    "from sklearn.model_selection import train_test_split\n",
    "X_train,X_test,y_train,y_test=train_test_split(X,y,test_size=0.2,random_state=10)"
   ]
  },
  {
   "cell_type": "markdown",
   "id": "83ec26df-5aba-41ef-83ef-53a6b2a286f8",
   "metadata": {},
   "source": [
    "#### Apply Logistic Regression"
   ]
  },
  {
   "cell_type": "code",
   "execution_count": null,
   "id": "423158c3-1a5e-47db-9180-06e915cd0014",
   "metadata": {},
   "outputs": [],
   "source": [
    "from sklearn.linear_model import LogisticRegression\n",
    "lr=LogisticRegression()\n",
    "lr.fit(X_train,y_train)"
   ]
  },
  {
   "cell_type": "code",
   "execution_count": null,
   "id": "9abf0539-f81a-467f-a0f5-f5602aca99bc",
   "metadata": {},
   "outputs": [],
   "source": [
    "y_pred=lr.predict(X_test)\n",
    "from sklearn.metrics import classification_report\n",
    "print(classification_report(y_test,y_pred))"
   ]
  },
  {
   "cell_type": "markdown",
   "id": "dbe6253d-92af-4217-861a-d7e2e342554f",
   "metadata": {},
   "source": [
    "#### Predicting Survival"
   ]
  },
  {
   "cell_type": "code",
   "execution_count": 69,
   "id": "f4d1752d-6d97-44a0-9252-0180eb3c4a23",
   "metadata": {},
   "outputs": [
    {
     "name": "stdin",
     "output_type": "stream",
     "text": [
      "Please enter Pclass here 1\n",
      "Please enter Age here 30\n",
      "Please enter number of Sibling Spouse here 0\n",
      "Please enter number of Parents Children here 0\n",
      "Please enter fare value here 31\n",
      "Enter 1 if gender is male 0\n",
      "Enter 1 if embarked from Queenstown 0\n",
      "Enter 1 if embarked from Southampton 0\n"
     ]
    },
    {
     "name": "stdout",
     "output_type": "stream",
     "text": [
      "Hooray! You will survive Titanic\n"
     ]
    }
   ],
   "source": [
    "Pclass=float(input('Please enter Pclass here'))\n",
    "Age=float(input('Please enter Age here'))\n",
    "SibSp=float(input('Please enter number of Sibling Spouse here'))\n",
    "Parch=float(input('Please enter number of Parents Children here'))\n",
    "Fare=float(input('Please enter fare value here'))\n",
    "Sex_male=float(input('Enter 1 if gender is male'))\n",
    "Embarked_Q=float(input('Enter 1 if embarked from Queenstown'))\n",
    "Embarked_S=float(input('Enter 1 if embarked from Southampton'))\n",
    "\n",
    "user_input=np.array([Pclass,Age,SibSp,Parch,Fare,Sex_male,Embarked_Q,Embarked_S]).reshape(1,-1)\n",
    "if lr.predict(user_input)==0:\n",
    "    print('RIP! You wont survive Titanic')\n",
    "else:\n",
    "    print('Hooray! You will survive Titanic')"
   ]
  },
  {
   "cell_type": "code",
   "execution_count": null,
   "id": "dc879cff-09a9-495e-8ce1-2c7c2f321c7f",
   "metadata": {},
   "outputs": [],
   "source": []
  }
 ],
 "metadata": {
  "kernelspec": {
   "display_name": "Python 3 (ipykernel)",
   "language": "python",
   "name": "python3"
  },
  "language_info": {
   "codemirror_mode": {
    "name": "ipython",
    "version": 3
   },
   "file_extension": ".py",
   "mimetype": "text/x-python",
   "name": "python",
   "nbconvert_exporter": "python",
   "pygments_lexer": "ipython3",
   "version": "3.8.11"
  }
 },
 "nbformat": 4,
 "nbformat_minor": 5
}
